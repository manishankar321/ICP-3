{
  "nbformat": 4,
  "nbformat_minor": 0,
  "metadata": {
    "colab": {
      "provenance": []
    },
    "kernelspec": {
      "name": "python3",
      "display_name": "Python 3"
    },
    "language_info": {
      "name": "python"
    }
  },
  "cells": [
    {
      "cell_type": "code",
      "execution_count": null,
      "metadata": {
        "colab": {
          "base_uri": "https://localhost:8080/"
        },
        "id": "PO3gHZ9PsfO2",
        "outputId": "8a851374-cb06-4978-9f19-d9002bd5ff41"
      },
      "outputs": [
        {
          "output_type": "stream",
          "name": "stdout",
          "text": [
            "Total Employees: 5\n",
            "Average Salary: 72000.0\n"
          ]
        }
      ],
      "source": [
        "#Employee Class\n",
        "class Employee:\n",
        "    num_of_employees = 0\n",
        "\n",
        "    #initializing the attributes\n",
        "    def __init__(self, name, family, salary, department):\n",
        "        self.name = name\n",
        "        self.family = family\n",
        "        self.salary = salary\n",
        "        self.department = department\n",
        "        Employee.num_of_employees += 1\n",
        "\n",
        "    #Average Salary Method\n",
        "    def averageSalary(self, employees):\n",
        "        total_salary = sum(emp.salary for emp in employees)\n",
        "        return total_salary / len(employees)\n",
        "#Full Time Employee Class - Super Class\n",
        "class FulltimeEmployee(Employee):\n",
        "    def __init__(self, name, family, salary, department, employment_type):\n",
        "        super().__init__(name, family, salary, department)\n",
        "        self.employment_type = employment_type\n",
        "\n",
        "# Instances of Employee class\n",
        "employee1 = Employee(\"pravs\", 3, 50000, \"data analyat\")\n",
        "employee2 = Employee(\"shankar\", 4, 80000, \"developer\")\n",
        "\n",
        "# Instances of FulltimeEmployee class\n",
        "fulltime1 = FulltimeEmployee(\"Ammu\", 5, 90000, \"manager\", \"FullTime\")\n",
        "fulltime2 = FulltimeEmployee(\"sanju\", 6, 100000, \"HR\", \"FullTime\")\n",
        "fulltime3 = FulltimeEmployee(\"manish\", 4, 40000, \"jr. software\", \"FullTime\")\n",
        "\n",
        "# Call member functions\n",
        "employees = [employee1, employee2, fulltime1, fulltime2, fulltime3]\n",
        "avgSalary = employee1.averageSalary(employees)\n",
        "\n",
        "print(\"Total Employees:\", Employee.num_of_employees)\n",
        "print(\"Average Salary:\", avgSalary)\n",
        "\n"
      ]
    },
    {
      "cell_type": "code",
      "source": [
        "#import numpy\n",
        "import numpy as np\n",
        "x = np.arange(1,21,dtype=float) #vector size is 1-20\n",
        "print (\"vector:\",x)\n",
        "x=x.reshape(4,5)\n",
        "print(\"reshape array to 4 by 5:\",x)\n",
        "def replace(x):\n",
        "    a=x\n",
        "    a[:,np.argmax(x, axis=1)] = 0\n",
        "    return a\n",
        "result = replace(x)\n",
        "print(\"replace the max in each row by 0 (axis=1):\",result)\n"
      ],
      "metadata": {
        "colab": {
          "base_uri": "https://localhost:8080/"
        },
        "id": "S0rYYcEF7zIJ",
        "outputId": "f160ab56-31c7-48f8-e980-f339254893d8"
      },
      "execution_count": null,
      "outputs": [
        {
          "output_type": "stream",
          "name": "stdout",
          "text": [
            "vector: [ 1.  2.  3.  4.  5.  6.  7.  8.  9. 10. 11. 12. 13. 14. 15. 16. 17. 18.\n",
            " 19. 20.]\n",
            "reshape array to 4 by 5: [[ 1.  2.  3.  4.  5.]\n",
            " [ 6.  7.  8.  9. 10.]\n",
            " [11. 12. 13. 14. 15.]\n",
            " [16. 17. 18. 19. 20.]]\n",
            "replace the max in each row by 0 (axis=1): [[ 1.  2.  3.  4.  0.]\n",
            " [ 6.  7.  8.  9.  0.]\n",
            " [11. 12. 13. 14.  0.]\n",
            " [16. 17. 18. 19.  0.]]\n"
          ]
        }
      ]
    }
  ]
}